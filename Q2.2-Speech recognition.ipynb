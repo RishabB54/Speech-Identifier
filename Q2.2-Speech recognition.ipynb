{
 "cells": [
  {
   "cell_type": "code",
   "execution_count": 97,
   "id": "779c3515",
   "metadata": {},
   "outputs": [
    {
     "name": "stdout",
     "output_type": "stream",
     "text": [
      "Requirement already satisfied: python_speech_features in c:\\users\\acer\\anaconda3\\lib\\site-packages (0.6)\n",
      "Note: you may need to restart the kernel to use updated packages.\n"
     ]
    }
   ],
   "source": [
    "pip install python_speech_features"
   ]
  },
  {
   "cell_type": "code",
   "execution_count": 98,
   "id": "be967c5d",
   "metadata": {},
   "outputs": [
    {
     "name": "stdout",
     "output_type": "stream",
     "text": [
      "Requirement already satisfied: moviepy in c:\\users\\acer\\anaconda3\\lib\\site-packages (1.0.3)\n",
      "Requirement already satisfied: decorator<5.0,>=4.0.2 in c:\\users\\acer\\anaconda3\\lib\\site-packages (from moviepy) (4.4.2)\n",
      "Requirement already satisfied: tqdm<5.0,>=4.11.2 in c:\\users\\acer\\anaconda3\\lib\\site-packages (from moviepy) (4.65.0)\n",
      "Requirement already satisfied: requests<3.0,>=2.8.1 in c:\\users\\acer\\anaconda3\\lib\\site-packages (from moviepy) (2.31.0)\n",
      "Requirement already satisfied: proglog<=1.0.0 in c:\\users\\acer\\anaconda3\\lib\\site-packages (from moviepy) (0.1.10)\n",
      "Requirement already satisfied: numpy>=1.17.3 in c:\\users\\acer\\anaconda3\\lib\\site-packages (from moviepy) (1.24.3)\n",
      "Requirement already satisfied: imageio<3.0,>=2.5 in c:\\users\\acer\\anaconda3\\lib\\site-packages (from moviepy) (2.26.0)\n",
      "Requirement already satisfied: imageio-ffmpeg>=0.2.0 in c:\\users\\acer\\anaconda3\\lib\\site-packages (from moviepy) (0.4.9)\n",
      "Requirement already satisfied: pillow>=8.3.2 in c:\\users\\acer\\anaconda3\\lib\\site-packages (from imageio<3.0,>=2.5->moviepy) (9.4.0)\n",
      "Requirement already satisfied: setuptools in c:\\users\\acer\\anaconda3\\lib\\site-packages (from imageio-ffmpeg>=0.2.0->moviepy) (68.0.0)\n",
      "Requirement already satisfied: charset-normalizer<4,>=2 in c:\\users\\acer\\anaconda3\\lib\\site-packages (from requests<3.0,>=2.8.1->moviepy) (2.0.4)\n",
      "Requirement already satisfied: idna<4,>=2.5 in c:\\users\\acer\\anaconda3\\lib\\site-packages (from requests<3.0,>=2.8.1->moviepy) (2.8)\n",
      "Requirement already satisfied: urllib3<3,>=1.21.1 in c:\\users\\acer\\anaconda3\\lib\\site-packages (from requests<3.0,>=2.8.1->moviepy) (1.24.3)\n",
      "Requirement already satisfied: certifi>=2017.4.17 in c:\\users\\acer\\anaconda3\\lib\\site-packages (from requests<3.0,>=2.8.1->moviepy) (2023.7.22)\n",
      "Requirement already satisfied: colorama in c:\\users\\acer\\anaconda3\\lib\\site-packages (from tqdm<5.0,>=4.11.2->moviepy) (0.4.6)\n",
      "Note: you may need to restart the kernel to use updated packages.\n"
     ]
    }
   ],
   "source": [
    "pip install moviepy # I installed this to just check mp4 to wav conversion, I have used the original Wav files provided"
   ]
  },
  {
   "cell_type": "code",
   "execution_count": 2,
   "id": "df37dd91",
   "metadata": {},
   "outputs": [],
   "source": [
    "#--------------------------------------Rishab Bairi---B21117-------------------------------------------\n",
    "import pandas as pd\n",
    "import numpy as np\n",
    "import matplotlib.pyplot as plt\n",
    "from scipy.io import wavfile\n",
    "from python_speech_features import mfcc, logfbank\n",
    "\n",
    "frequency_sampling, audio_signal = wavfile.read(\"GMM-Speaker-Identification-data/Speaker_data/Voice_Samples_Training/Abhay-001/Abhay_1.wav\")"
   ]
  },
  {
   "cell_type": "code",
   "execution_count": 3,
   "id": "b7df10b7",
   "metadata": {},
   "outputs": [
    {
     "name": "stdout",
     "output_type": "stream",
     "text": [
      "(250393, 2)\n",
      "\n",
      "MFCC:\n",
      "Number of windows = 135\n",
      "Length of each feature = 13\n"
     ]
    },
    {
     "data": {
      "text/plain": [
       "Text(0.5, 1.0, 'MFCC')"
      ]
     },
     "execution_count": 3,
     "metadata": {},
     "output_type": "execute_result"
    },
    {
     "data": {
      "image/png": "[encoded data removed]",
      "text/plain": [
       "<Figure size 1600x200 with 1 Axes>"
      ]
     },
     "metadata": {},
     "output_type": "display_data"
    }
   ],
   "source": [
    "frequency_sampling, audio_signal = wavfile.read(\"GMM-Speaker-Identification-data/Speaker_data/Voice_Samples_Training/Abhay-001/Abhay_2.wav\")\n",
    "print(audio_signal.shape)\n",
    "audio_signal =audio_signal[0:30000]\n",
    "features_mfcc = mfcc(audio_signal, frequency_sampling,nfft=1103)\n",
    "\n",
    "print('\\nMFCC:\\nNumber of windows =', features_mfcc.shape[0])\n",
    "print('Length of each feature =', features_mfcc.shape[1])\n",
    "\n",
    "\n",
    "\n",
    "features_mfcc = features_mfcc.T\n",
    "plt.matshow(features_mfcc)\n",
    "plt.title('MFCC')"
   ]
  },
  {
   "cell_type": "code",
   "execution_count": 4,
   "id": "864f3e91",
   "metadata": {},
   "outputs": [
    {
     "name": "stdout",
     "output_type": "stream",
     "text": [
      "(30000, 2)\n"
     ]
    }
   ],
   "source": [
    "print(audio_signal.shape)"
   ]
  },
  {
   "cell_type": "code",
   "execution_count": 5,
   "id": "773c525a",
   "metadata": {},
   "outputs": [
    {
     "name": "stdout",
     "output_type": "stream",
     "text": [
      "<class 'numpy.ndarray'>\n"
     ]
    }
   ],
   "source": [
    "print(type(features_mfcc))"
   ]
  },
  {
   "cell_type": "code",
   "execution_count": 10,
   "id": "f5176f82",
   "metadata": {},
   "outputs": [
    {
     "name": "stdout",
     "output_type": "stream",
     "text": [
      "Training phase\n",
      "<class 'numpy.ndarray'>\n",
      "\n",
      "MFCC:\n",
      "Number of windows = 1067\n",
      "Length of each feature = 13\n"
     ]
    },
    {
     "name": "stderr",
     "output_type": "stream",
     "text": [
      "C:\\Users\\ACER\\AppData\\Local\\Temp\\ipykernel_12512\\2622693803.py:21: FutureWarning: The frame.append method is deprecated and will be removed from pandas in a future version. Use pandas.concat instead.\n",
      "  df = df.append(jd, ignore_index=True)\n"
     ]
    },
    {
     "name": "stdout",
     "output_type": "stream",
     "text": [
      "<class 'numpy.ndarray'>\n",
      "\n",
      "MFCC:\n",
      "Number of windows = 1135\n",
      "Length of each feature = 13\n"
     ]
    },
    {
     "name": "stderr",
     "output_type": "stream",
     "text": [
      "C:\\Users\\ACER\\AppData\\Local\\Temp\\ipykernel_12512\\2622693803.py:21: FutureWarning: The frame.append method is deprecated and will be removed from pandas in a future version. Use pandas.concat instead.\n",
      "  df = df.append(jd, ignore_index=True)\n"
     ]
    },
    {
     "name": "stdout",
     "output_type": "stream",
     "text": [
      "<class 'numpy.ndarray'>\n",
      "\n",
      "MFCC:\n",
      "Number of windows = 1047\n",
      "Length of each feature = 13\n"
     ]
    },
    {
     "name": "stderr",
     "output_type": "stream",
     "text": [
      "C:\\Users\\ACER\\AppData\\Local\\Temp\\ipykernel_12512\\2622693803.py:21: FutureWarning: The frame.append method is deprecated and will be removed from pandas in a future version. Use pandas.concat instead.\n",
      "  df = df.append(jd, ignore_index=True)\n"
     ]
    },
    {
     "name": "stdout",
     "output_type": "stream",
     "text": [
      "<class 'numpy.ndarray'>\n",
      "\n",
      "MFCC:\n",
      "Number of windows = 1151\n",
      "Length of each feature = 13\n"
     ]
    },
    {
     "name": "stderr",
     "output_type": "stream",
     "text": [
      "C:\\Users\\ACER\\AppData\\Local\\Temp\\ipykernel_12512\\2622693803.py:21: FutureWarning: The frame.append method is deprecated and will be removed from pandas in a future version. Use pandas.concat instead.\n",
      "  df = df.append(jd, ignore_index=True)\n"
     ]
    },
    {
     "name": "stdout",
     "output_type": "stream",
     "text": [
      "<class 'numpy.ndarray'>\n",
      "\n",
      "MFCC:\n",
      "Number of windows = 1039\n",
      "Length of each feature = 13\n"
     ]
    },
    {
     "name": "stderr",
     "output_type": "stream",
     "text": [
      "C:\\Users\\ACER\\AppData\\Local\\Temp\\ipykernel_12512\\2622693803.py:43: FutureWarning: The frame.append method is deprecated and will be removed from pandas in a future version. Use pandas.concat instead.\n",
      "  df = df.append(jd, ignore_index=True)\n"
     ]
    },
    {
     "name": "stdout",
     "output_type": "stream",
     "text": [
      "<class 'numpy.ndarray'>\n",
      "\n",
      "MFCC:\n",
      "Number of windows = 1119\n",
      "Length of each feature = 13\n"
     ]
    },
    {
     "name": "stderr",
     "output_type": "stream",
     "text": [
      "C:\\Users\\ACER\\AppData\\Local\\Temp\\ipykernel_12512\\2622693803.py:43: FutureWarning: The frame.append method is deprecated and will be removed from pandas in a future version. Use pandas.concat instead.\n",
      "  df = df.append(jd, ignore_index=True)\n"
     ]
    },
    {
     "name": "stdout",
     "output_type": "stream",
     "text": [
      "<class 'numpy.ndarray'>\n",
      "\n",
      "MFCC:\n",
      "Number of windows = 1195\n",
      "Length of each feature = 13\n"
     ]
    },
    {
     "name": "stderr",
     "output_type": "stream",
     "text": [
      "C:\\Users\\ACER\\AppData\\Local\\Temp\\ipykernel_12512\\2622693803.py:43: FutureWarning: The frame.append method is deprecated and will be removed from pandas in a future version. Use pandas.concat instead.\n",
      "  df = df.append(jd, ignore_index=True)\n"
     ]
    },
    {
     "name": "stdout",
     "output_type": "stream",
     "text": [
      "<class 'numpy.ndarray'>\n",
      "\n",
      "MFCC:\n",
      "Number of windows = 1203\n",
      "Length of each feature = 13\n"
     ]
    },
    {
     "name": "stderr",
     "output_type": "stream",
     "text": [
      "C:\\Users\\ACER\\AppData\\Local\\Temp\\ipykernel_12512\\2622693803.py:43: FutureWarning: The frame.append method is deprecated and will be removed from pandas in a future version. Use pandas.concat instead.\n",
      "  df = df.append(jd, ignore_index=True)\n"
     ]
    },
    {
     "name": "stdout",
     "output_type": "stream",
     "text": [
      "<class 'numpy.ndarray'>\n",
      "\n",
      "MFCC:\n",
      "Number of windows = 1171\n",
      "Length of each feature = 13\n",
      "<class 'numpy.ndarray'>\n",
      "\n",
      "MFCC:\n",
      "Number of windows = 1391\n",
      "Length of each feature = 13\n",
      "               0          1          2          3             4          5  \\\n",
      "0       3.709153 -17.892319 -22.465258 -10.380653 -1.892859e+01  -8.633639   \n",
      "1       0.663619 -22.264553 -29.325811  -5.991876 -4.802390e+00 -15.387926   \n",
      "2     -36.043653   0.000000   0.000000   0.000000  2.658533e-14   0.000000   \n",
      "3       0.663619 -22.264553 -29.325811  -5.991876 -4.802390e+00 -15.387926   \n",
      "4       1.356769 -22.244437 -29.294535  -5.948628 -4.746628e+00 -15.319954   \n",
      "...          ...        ...        ...        ...           ...        ...   \n",
      "11513   9.133110  20.316716   0.509342  -9.988112  1.915702e+01  20.340710   \n",
      "11514   9.484080  22.157122   1.783169  -8.122282  2.127703e+01  14.030394   \n",
      "11515   9.630948  21.603672   0.867688  -7.392343  2.380720e+01  15.575161   \n",
      "11516   9.778191  21.254534   2.545940  -4.197126  2.212391e+01  15.322952   \n",
      "11517   9.100815  22.005790   3.056249  -7.921473  2.126236e+01  18.820914   \n",
      "\n",
      "                  6          7             8         9            10  \\\n",
      "0     -2.667630e+01 -15.432049 -9.530002e+00  5.684299  3.618394e+00   \n",
      "1      2.826322e+00  -7.380674 -6.516295e+00  7.168687 -1.569765e+01   \n",
      "2      6.864339e-14   0.000000  7.681979e-14  0.000000  6.748201e-14   \n",
      "3      2.826322e+00  -7.380674 -6.516295e+00  7.168687 -1.569765e+01   \n",
      "4      2.928440e+00  -7.226422 -6.272190e+00  7.512139 -1.528681e+01   \n",
      "...             ...        ...           ...       ...           ...   \n",
      "11513  9.472123e-01  -1.420128  2.370304e+01  0.344517  1.297403e+01   \n",
      "11514  2.026241e+00  -0.230737  2.254370e+01 -3.177108  4.821016e+00   \n",
      "11515  4.935526e+00   5.490200  2.646964e+01 -4.232686  7.494036e+00   \n",
      "11516  2.149163e+00   2.098299  2.428683e+01  0.577203  1.108668e+01   \n",
      "11517 -4.596723e-01  -3.080553  2.946734e+01  6.397017  1.288950e+01   \n",
      "\n",
      "              11            12  Class  \n",
      "0      11.867610  6.356574e+00      0  \n",
      "1      11.728846 -1.242678e+01      0  \n",
      "2       0.000000  3.507169e-14      0  \n",
      "3      11.728846 -1.242678e+01      0  \n",
      "4      12.151631 -1.204402e+01      0  \n",
      "...          ...           ...    ...  \n",
      "11513   4.729930  1.164839e+01      1  \n",
      "11514   5.451557  1.071979e+01      1  \n",
      "11515   5.658920  1.098656e+01      1  \n",
      "11516   4.401706  1.151144e+01      1  \n",
      "11517   9.345330  1.492733e+01      1  \n",
      "\n",
      "[11518 rows x 14 columns]\n"
     ]
    },
    {
     "name": "stderr",
     "output_type": "stream",
     "text": [
      "C:\\Users\\ACER\\AppData\\Local\\Temp\\ipykernel_12512\\2622693803.py:43: FutureWarning: The frame.append method is deprecated and will be removed from pandas in a future version. Use pandas.concat instead.\n",
      "  df = df.append(jd, ignore_index=True)\n"
     ]
    }
   ],
   "source": [
    "df = pd.DataFrame()\n",
    "base_path = \"GMM-Speaker-Identification-data/Speaker_data/Voice_Samples_Training/Abhay-001/\"\n",
    "j= 0 \n",
    "m= 0  \n",
    "print(\"Training phase\")\n",
    "for i in range(1, 6): \n",
    "    filename = f\"Abhay_{i}.wav\"\n",
    "    full_path = base_path + filename\n",
    "    \n",
    "    frequency_sampling, audio_signal = wavfile.read(full_path)\n",
    "    #audio_signal =audio_signal[0:30000]\n",
    "    features_mfcc = mfcc(audio_signal, frequency_sampling,nfft=1103) \n",
    "    if(j==0): \n",
    "        \n",
    "        df = pd.DataFrame(features_mfcc)\n",
    "        df['Class']= m\n",
    "        j+=1\n",
    "    else: \n",
    "        jd = pd.DataFrame(features_mfcc)\n",
    "        jd['Class']=m\n",
    "        df = df.append(jd, ignore_index=True)\n",
    "    print(type( features_mfcc))\n",
    "    print('\\nMFCC:\\nNumber of windows =', features_mfcc.shape[0])\n",
    "    print('Length of each feature =', features_mfcc.shape[1])\n",
    "    features_mfcc = features_mfcc.T \n",
    "m = m +1 \n",
    "base_path = \"GMM-Speaker-Identification-data/Speaker_data/Voice_Samples_Training/Eknath-002/\"\n",
    "for i in range(1, 6):  # Change the range as needed\n",
    "    filename = f\"Eknath_{i}.wav\"\n",
    "    full_path = base_path + filename\n",
    "    \n",
    "    frequency_sampling, audio_signal = wavfile.read(full_path)\n",
    "    #audio_signal =audio_signal[0:30000]\n",
    "    features_mfcc = mfcc(audio_signal, frequency_sampling,nfft=1103) \n",
    "    if(j==0): \n",
    "        \n",
    "        df = pd.DataFrame(features_mfcc)\n",
    "        df['Class']=m\n",
    "        j+=1\n",
    "    else: \n",
    "        jd = pd.DataFrame(features_mfcc)\n",
    "        jd['Class']=m\n",
    "        df = df.append(jd, ignore_index=True)\n",
    "    print(type( features_mfcc))\n",
    "    print('\\nMFCC:\\nNumber of windows =', features_mfcc.shape[0])\n",
    "    print('Length of each feature =', features_mfcc.shape[1])\n",
    "    features_mfcc = features_mfcc.T \n",
    "print(df)"
   ]
  },
  {
   "cell_type": "code",
   "execution_count": 7,
   "id": "e26feaf0",
   "metadata": {},
   "outputs": [
    {
     "name": "stderr",
     "output_type": "stream",
     "text": [
      "C:\\Users\\ACER\\AppData\\Local\\Temp\\ipykernel_12512\\3086905973.py:18: FutureWarning: The frame.append method is deprecated and will be removed from pandas in a future version. Use pandas.concat instead.\n",
      "  df = df.append(jd, ignore_index=True)\n"
     ]
    },
    {
     "name": "stdout",
     "output_type": "stream",
     "text": [
      "<class 'numpy.ndarray'>\n",
      "\n",
      "MFCC:\n",
      "Number of windows = 995\n",
      "Length of each feature = 13\n"
     ]
    },
    {
     "name": "stderr",
     "output_type": "stream",
     "text": [
      "C:\\Users\\ACER\\AppData\\Local\\Temp\\ipykernel_12512\\3086905973.py:18: FutureWarning: The frame.append method is deprecated and will be removed from pandas in a future version. Use pandas.concat instead.\n",
      "  df = df.append(jd, ignore_index=True)\n"
     ]
    },
    {
     "name": "stdout",
     "output_type": "stream",
     "text": [
      "<class 'numpy.ndarray'>\n",
      "\n",
      "MFCC:\n",
      "Number of windows = 1119\n",
      "Length of each feature = 13\n"
     ]
    },
    {
     "name": "stderr",
     "output_type": "stream",
     "text": [
      "C:\\Users\\ACER\\AppData\\Local\\Temp\\ipykernel_12512\\3086905973.py:18: FutureWarning: The frame.append method is deprecated and will be removed from pandas in a future version. Use pandas.concat instead.\n",
      "  df = df.append(jd, ignore_index=True)\n"
     ]
    },
    {
     "name": "stdout",
     "output_type": "stream",
     "text": [
      "<class 'numpy.ndarray'>\n",
      "\n",
      "MFCC:\n",
      "Number of windows = 975\n",
      "Length of each feature = 13\n"
     ]
    },
    {
     "name": "stderr",
     "output_type": "stream",
     "text": [
      "C:\\Users\\ACER\\AppData\\Local\\Temp\\ipykernel_12512\\3086905973.py:18: FutureWarning: The frame.append method is deprecated and will be removed from pandas in a future version. Use pandas.concat instead.\n",
      "  df = df.append(jd, ignore_index=True)\n"
     ]
    },
    {
     "name": "stdout",
     "output_type": "stream",
     "text": [
      "<class 'numpy.ndarray'>\n",
      "\n",
      "MFCC:\n",
      "Number of windows = 1047\n",
      "Length of each feature = 13\n"
     ]
    },
    {
     "name": "stderr",
     "output_type": "stream",
     "text": [
      "C:\\Users\\ACER\\AppData\\Local\\Temp\\ipykernel_12512\\3086905973.py:18: FutureWarning: The frame.append method is deprecated and will be removed from pandas in a future version. Use pandas.concat instead.\n",
      "  df = df.append(jd, ignore_index=True)\n"
     ]
    },
    {
     "name": "stdout",
     "output_type": "stream",
     "text": [
      "<class 'numpy.ndarray'>\n",
      "\n",
      "MFCC:\n",
      "Number of windows = 963\n",
      "Length of each feature = 13\n",
      "               0          1          2          3             4          5  \\\n",
      "0       3.709153 -17.892319 -22.465258 -10.380653 -1.892859e+01  -8.633639   \n",
      "1       0.663619 -22.264553 -29.325811  -5.991876 -4.802390e+00 -15.387926   \n",
      "2     -36.043653   0.000000   0.000000   0.000000  2.658533e-14   0.000000   \n",
      "3       0.663619 -22.264553 -29.325811  -5.991876 -4.802390e+00 -15.387926   \n",
      "4       1.356769 -22.244437 -29.294535  -5.948628 -4.746628e+00 -15.319954   \n",
      "...          ...        ...        ...        ...           ...        ...   \n",
      "16612  13.667839  36.182175   7.378857 -14.624095  3.218166e+01  -2.830463   \n",
      "16613  13.240359  32.737287   7.153838 -10.259678  2.752329e+01  -0.096855   \n",
      "16614  12.887192  30.079192   6.637610  -7.690955  2.112526e+01   3.329369   \n",
      "16615  12.437850  32.187224   5.732442 -11.724766  2.917086e+01   0.138223   \n",
      "16616  11.744776  25.940716   8.006093   0.906471  1.606577e+01  -2.821664   \n",
      "\n",
      "                  6          7             8          9            10  \\\n",
      "0     -2.667630e+01 -15.432049 -9.530002e+00   5.684299  3.618394e+00   \n",
      "1      2.826322e+00  -7.380674 -6.516295e+00   7.168687 -1.569765e+01   \n",
      "2      6.864339e-14   0.000000  7.681979e-14   0.000000  6.748201e-14   \n",
      "3      2.826322e+00  -7.380674 -6.516295e+00   7.168687 -1.569765e+01   \n",
      "4      2.928440e+00  -7.226422 -6.272190e+00   7.512139 -1.528681e+01   \n",
      "...             ...        ...           ...        ...           ...   \n",
      "16612  1.045178e+01  21.341587  4.963664e+01 -14.467534  1.231833e+01   \n",
      "16613  6.196472e+00  15.070322  3.800671e+01  -9.865036  1.262008e+01   \n",
      "16614  6.340131e+00  10.367353  3.452719e+01  -0.103348  1.239666e+01   \n",
      "16615  2.902141e+00  12.435485  4.384493e+01  -3.664445  1.476649e+01   \n",
      "16616  2.959378e+00  10.865809  2.891511e+01   2.789478  3.279497e+00   \n",
      "\n",
      "              11            12  Class  \n",
      "0      11.867610  6.356574e+00      0  \n",
      "1      11.728846 -1.242678e+01      0  \n",
      "2       0.000000  3.507169e-14      0  \n",
      "3      11.728846 -1.242678e+01      0  \n",
      "4      12.151631 -1.204402e+01      0  \n",
      "...          ...           ...    ...  \n",
      "16612  13.808493  7.147870e+00      2  \n",
      "16613  15.830139  1.513629e+01      2  \n",
      "16614  12.782670  1.462977e+01      2  \n",
      "16615   9.037320  7.528741e+00      2  \n",
      "16616   3.012785  1.940440e+00      2  \n",
      "\n",
      "[16617 rows x 14 columns]\n"
     ]
    },
    {
     "name": "stderr",
     "output_type": "stream",
     "text": [
      "C:\\Users\\ACER\\AppData\\Local\\Temp\\ipykernel_12512\\3086905973.py:41: FutureWarning: The frame.append method is deprecated and will be removed from pandas in a future version. Use pandas.concat instead.\n",
      "  df = df.append(jd, ignore_index=True)\n"
     ]
    },
    {
     "name": "stdout",
     "output_type": "stream",
     "text": [
      "<class 'numpy.ndarray'>\n",
      "\n",
      "MFCC:\n",
      "Number of windows = 1187\n",
      "Length of each feature = 13\n"
     ]
    },
    {
     "name": "stderr",
     "output_type": "stream",
     "text": [
      "C:\\Users\\ACER\\AppData\\Local\\Temp\\ipykernel_12512\\3086905973.py:41: FutureWarning: The frame.append method is deprecated and will be removed from pandas in a future version. Use pandas.concat instead.\n",
      "  df = df.append(jd, ignore_index=True)\n"
     ]
    },
    {
     "name": "stdout",
     "output_type": "stream",
     "text": [
      "<class 'numpy.ndarray'>\n",
      "\n",
      "MFCC:\n",
      "Number of windows = 1267\n",
      "Length of each feature = 13\n"
     ]
    },
    {
     "name": "stderr",
     "output_type": "stream",
     "text": [
      "C:\\Users\\ACER\\AppData\\Local\\Temp\\ipykernel_12512\\3086905973.py:41: FutureWarning: The frame.append method is deprecated and will be removed from pandas in a future version. Use pandas.concat instead.\n",
      "  df = df.append(jd, ignore_index=True)\n"
     ]
    },
    {
     "name": "stdout",
     "output_type": "stream",
     "text": [
      "<class 'numpy.ndarray'>\n",
      "\n",
      "MFCC:\n",
      "Number of windows = 1251\n",
      "Length of each feature = 13\n"
     ]
    },
    {
     "name": "stderr",
     "output_type": "stream",
     "text": [
      "C:\\Users\\ACER\\AppData\\Local\\Temp\\ipykernel_12512\\3086905973.py:41: FutureWarning: The frame.append method is deprecated and will be removed from pandas in a future version. Use pandas.concat instead.\n",
      "  df = df.append(jd, ignore_index=True)\n"
     ]
    },
    {
     "name": "stdout",
     "output_type": "stream",
     "text": [
      "<class 'numpy.ndarray'>\n",
      "\n",
      "MFCC:\n",
      "Number of windows = 1143\n",
      "Length of each feature = 13\n"
     ]
    },
    {
     "name": "stderr",
     "output_type": "stream",
     "text": [
      "C:\\Users\\ACER\\AppData\\Local\\Temp\\ipykernel_12512\\3086905973.py:41: FutureWarning: The frame.append method is deprecated and will be removed from pandas in a future version. Use pandas.concat instead.\n",
      "  df = df.append(jd, ignore_index=True)\n",
      "C:\\Users\\ACER\\AppData\\Local\\Temp\\ipykernel_12512\\3086905973.py:63: FutureWarning: The frame.append method is deprecated and will be removed from pandas in a future version. Use pandas.concat instead.\n",
      "  df = df.append(jd, ignore_index=True)\n"
     ]
    },
    {
     "name": "stdout",
     "output_type": "stream",
     "text": [
      "<class 'numpy.ndarray'>\n",
      "\n",
      "MFCC:\n",
      "Number of windows = 1231\n",
      "Length of each feature = 13\n",
      "               0          1          2          3             4          5  \\\n",
      "0       3.709153 -17.892319 -22.465258 -10.380653 -1.892859e+01  -8.633639   \n",
      "1       0.663619 -22.264553 -29.325811  -5.991876 -4.802390e+00 -15.387926   \n",
      "2     -36.043653   0.000000   0.000000   0.000000  2.658533e-14   0.000000   \n",
      "3       0.663619 -22.264553 -29.325811  -5.991876 -4.802390e+00 -15.387926   \n",
      "4       1.356769 -22.244437 -29.294535  -5.948628 -4.746628e+00 -15.319954   \n",
      "...          ...        ...        ...        ...           ...        ...   \n",
      "22691   6.396212   6.265619  -7.185081 -11.331311 -7.202466e+00   6.867961   \n",
      "22692   6.175020   7.314687  -5.104795  -9.028174 -9.023881e+00   2.740205   \n",
      "22693   6.634113   8.689286  -3.484911  -9.125177 -1.152393e+01  -0.622548   \n",
      "22694   6.822525   8.841342  -3.105281  -7.967794 -1.157253e+01  -2.298551   \n",
      "22695   6.488341  10.256832  -1.168172  -6.109170 -8.983117e+00  -1.438278   \n",
      "\n",
      "                  6          7             8          9            10  \\\n",
      "0     -2.667630e+01 -15.432049 -9.530002e+00   5.684299  3.618394e+00   \n",
      "1      2.826322e+00  -7.380674 -6.516295e+00   7.168687 -1.569765e+01   \n",
      "2      6.864339e-14   0.000000  7.681979e-14   0.000000  6.748201e-14   \n",
      "3      2.826322e+00  -7.380674 -6.516295e+00   7.168687 -1.569765e+01   \n",
      "4      2.928440e+00  -7.226422 -6.272190e+00   7.512139 -1.528681e+01   \n",
      "...             ...        ...           ...        ...           ...   \n",
      "22691 -8.919548e+00  -1.027641  1.642306e+01  14.983091  1.153222e+01   \n",
      "22692 -1.185521e+01  -4.230129  6.724911e+00   5.935389  2.885238e+00   \n",
      "22693 -1.472851e+01  -5.250927  6.531502e+00   0.379347 -1.290814e+00   \n",
      "22694 -1.563343e+01  -6.357434  7.145167e+00   3.188402 -2.300255e+00   \n",
      "22695 -1.413979e+01  -3.536149  1.136478e+01   7.611502  3.779618e+00   \n",
      "\n",
      "              11            12  Class  \n",
      "0      11.867610  6.356574e+00      0  \n",
      "1      11.728846 -1.242678e+01      0  \n",
      "2       0.000000  3.507169e-14      0  \n",
      "3      11.728846 -1.242678e+01      0  \n",
      "4      12.151631 -1.204402e+01      0  \n",
      "...          ...           ...    ...  \n",
      "22691   0.788111  7.803280e-01      3  \n",
      "22692  -3.496896  1.898927e+00      3  \n",
      "22693  -3.298823  4.607371e+00      3  \n",
      "22694  -0.161252  3.336328e+00      3  \n",
      "22695   4.869383  5.974302e+00      3  \n",
      "\n",
      "[22696 rows x 14 columns]\n",
      "<class 'numpy.ndarray'>\n",
      "\n",
      "MFCC:\n",
      "Number of windows = 251\n",
      "Length of each feature = 13\n"
     ]
    },
    {
     "name": "stderr",
     "output_type": "stream",
     "text": [
      "C:\\Users\\ACER\\AppData\\Local\\Temp\\ipykernel_12512\\3086905973.py:63: FutureWarning: The frame.append method is deprecated and will be removed from pandas in a future version. Use pandas.concat instead.\n",
      "  df = df.append(jd, ignore_index=True)\n",
      "C:\\Users\\ACER\\AppData\\Local\\Temp\\ipykernel_12512\\3086905973.py:63: FutureWarning: The frame.append method is deprecated and will be removed from pandas in a future version. Use pandas.concat instead.\n",
      "  df = df.append(jd, ignore_index=True)\n",
      "C:\\Users\\ACER\\AppData\\Local\\Temp\\ipykernel_12512\\3086905973.py:63: FutureWarning: The frame.append method is deprecated and will be removed from pandas in a future version. Use pandas.concat instead.\n",
      "  df = df.append(jd, ignore_index=True)\n"
     ]
    },
    {
     "name": "stdout",
     "output_type": "stream",
     "text": [
      "<class 'numpy.ndarray'>\n",
      "\n",
      "MFCC:\n",
      "Number of windows = 211\n",
      "Length of each feature = 13\n",
      "<class 'numpy.ndarray'>\n",
      "\n",
      "MFCC:\n",
      "Number of windows = 258\n",
      "Length of each feature = 13\n",
      "<class 'numpy.ndarray'>\n",
      "\n",
      "MFCC:\n",
      "Number of windows = 235\n",
      "Length of each feature = 13\n"
     ]
    },
    {
     "name": "stderr",
     "output_type": "stream",
     "text": [
      "C:\\Users\\ACER\\AppData\\Local\\Temp\\ipykernel_12512\\3086905973.py:63: FutureWarning: The frame.append method is deprecated and will be removed from pandas in a future version. Use pandas.concat instead.\n",
      "  df = df.append(jd, ignore_index=True)\n",
      "C:\\Users\\ACER\\AppData\\Local\\Temp\\ipykernel_12512\\3086905973.py:86: FutureWarning: The frame.append method is deprecated and will be removed from pandas in a future version. Use pandas.concat instead.\n",
      "  df = df.append(jd, ignore_index=True)\n",
      "C:\\Users\\ACER\\AppData\\Local\\Temp\\ipykernel_12512\\3086905973.py:86: FutureWarning: The frame.append method is deprecated and will be removed from pandas in a future version. Use pandas.concat instead.\n",
      "  df = df.append(jd, ignore_index=True)\n",
      "C:\\Users\\ACER\\AppData\\Local\\Temp\\ipykernel_12512\\3086905973.py:86: FutureWarning: The frame.append method is deprecated and will be removed from pandas in a future version. Use pandas.concat instead.\n",
      "  df = df.append(jd, ignore_index=True)\n"
     ]
    },
    {
     "name": "stdout",
     "output_type": "stream",
     "text": [
      "<class 'numpy.ndarray'>\n",
      "\n",
      "MFCC:\n",
      "Number of windows = 308\n",
      "Length of each feature = 13\n",
      "               0          1          2          3             4          5  \\\n",
      "0       3.709153 -17.892319 -22.465258 -10.380653 -1.892859e+01  -8.633639   \n",
      "1       0.663619 -22.264553 -29.325811  -5.991876 -4.802390e+00 -15.387926   \n",
      "2     -36.043653   0.000000   0.000000   0.000000  2.658533e-14   0.000000   \n",
      "3       0.663619 -22.264553 -29.325811  -5.991876 -4.802390e+00 -15.387926   \n",
      "4       1.356769 -22.244437 -29.294535  -5.948628 -4.746628e+00 -15.319954   \n",
      "...          ...        ...        ...        ...           ...        ...   \n",
      "23954  16.581725  42.359079  11.658628 -14.359489  2.701358e+01  11.199465   \n",
      "23955  16.555039  33.279896  11.484098  -4.866699  1.312134e+01  10.657051   \n",
      "23956  16.862354  41.892097  13.486024 -11.380754  2.585530e+01   7.713821   \n",
      "23957  16.772600  38.153908  13.982666 -10.453135  1.446306e+01   6.434721   \n",
      "23958  16.669487  32.243711  11.840896  -4.316694  1.208430e+01  12.494809   \n",
      "\n",
      "                  6          7             8         9            10  \\\n",
      "0     -2.667630e+01 -15.432049 -9.530002e+00  5.684299  3.618394e+00   \n",
      "1      2.826322e+00  -7.380674 -6.516295e+00  7.168687 -1.569765e+01   \n",
      "2      6.864339e-14   0.000000  7.681979e-14  0.000000  6.748201e-14   \n",
      "3      2.826322e+00  -7.380674 -6.516295e+00  7.168687 -1.569765e+01   \n",
      "4      2.928440e+00  -7.226422 -6.272190e+00  7.512139 -1.528681e+01   \n",
      "...             ...        ...           ...       ...           ...   \n",
      "23954  2.342677e+01   8.355671  3.489200e+01 -6.576226  9.283770e+00   \n",
      "23955  2.203044e+01   9.382855  2.039369e+01 -0.617968  5.239864e+00   \n",
      "23956  2.333377e+01   7.911435  3.134764e+01 -4.639892  9.652259e+00   \n",
      "23957  2.002537e+01   6.693314  2.686511e+01 -0.236137  8.859954e+00   \n",
      "23958  2.306393e+01  12.207787  2.144251e+01 -0.371901  9.993776e-01   \n",
      "\n",
      "              11            12  Class  \n",
      "0      11.867610  6.356574e+00      0  \n",
      "1      11.728846 -1.242678e+01      0  \n",
      "2       0.000000  3.507169e-14      0  \n",
      "3      11.728846 -1.242678e+01      0  \n",
      "4      12.151631 -1.204402e+01      0  \n",
      "...          ...           ...    ...  \n",
      "23954  -8.134475  7.730038e+00      4  \n",
      "23955  -7.296185  5.756162e+00      4  \n",
      "23956  -7.981435  5.340731e+00      4  \n",
      "23957  -5.251418  7.322645e+00      4  \n",
      "23958  -9.643241  3.275173e+00      4  \n",
      "\n",
      "[23959 rows x 14 columns]\n",
      "<class 'numpy.ndarray'>\n",
      "\n",
      "MFCC:\n",
      "Number of windows = 135\n",
      "Length of each feature = 13\n",
      "<class 'numpy.ndarray'>\n",
      "\n",
      "MFCC:\n",
      "Number of windows = 135\n",
      "Length of each feature = 13\n",
      "<class 'numpy.ndarray'>\n",
      "\n",
      "MFCC:\n",
      "Number of windows = 135\n",
      "Length of each feature = 13\n",
      "<class 'numpy.ndarray'>\n",
      "\n",
      "MFCC:\n",
      "Number of windows = 135\n",
      "Length of each feature = 13\n",
      "<class 'numpy.ndarray'>\n",
      "\n",
      "MFCC:\n",
      "Number of windows = 135\n",
      "Length of each feature = 13\n",
      "               0          1          2          3             4          5  \\\n",
      "0       3.709153 -17.892319 -22.465258 -10.380653 -1.892859e+01  -8.633639   \n",
      "1       0.663619 -22.264553 -29.325811  -5.991876 -4.802390e+00 -15.387926   \n",
      "2     -36.043653   0.000000   0.000000   0.000000  2.658533e-14   0.000000   \n",
      "3       0.663619 -22.264553 -29.325811  -5.991876 -4.802390e+00 -15.387926   \n",
      "4       1.356769 -22.244437 -29.294535  -5.948628 -4.746628e+00 -15.319954   \n",
      "...          ...        ...        ...        ...           ...        ...   \n",
      "24629  12.929451  32.956260   2.227463 -16.369231  3.530655e+01   0.646987   \n",
      "24630  12.254072  35.116208   0.276707 -25.891480  3.421951e+01  -2.490966   \n",
      "24631  11.871612  29.224394   0.037754 -16.475882  2.192325e+01  -3.658891   \n",
      "24632  11.688967  30.503205  -1.124850 -22.483073  1.884610e+01 -10.041426   \n",
      "24633  11.631151  25.512456   0.151374 -15.032082  9.656098e+00  -6.178590   \n",
      "\n",
      "                  6          7             8          9            10  \\\n",
      "0     -2.667630e+01 -15.432049 -9.530002e+00   5.684299  3.618394e+00   \n",
      "1      2.826322e+00  -7.380674 -6.516295e+00   7.168687 -1.569765e+01   \n",
      "2      6.864339e-14   0.000000  7.681979e-14   0.000000  6.748201e-14   \n",
      "3      2.826322e+00  -7.380674 -6.516295e+00   7.168687 -1.569765e+01   \n",
      "4      2.928440e+00  -7.226422 -6.272190e+00   7.512139 -1.528681e+01   \n",
      "...             ...        ...           ...        ...           ...   \n",
      "24629  9.758020e+00  -1.660670  1.641225e+01 -22.852912  1.036391e+01   \n",
      "24630  8.094726e+00   1.140221  2.481868e+01 -32.849507  1.891518e+01   \n",
      "24631  4.974307e+00  -4.434552  1.560313e+01 -20.506756  9.461362e+00   \n",
      "24632 -4.486194e+00 -16.528671  1.076208e+01 -22.092497  3.218479e+00   \n",
      "24633 -2.832059e+00 -11.525360  8.266911e+00 -12.067970  2.934119e+00   \n",
      "\n",
      "              11            12  Class  \n",
      "0      11.867610  6.356574e+00      0  \n",
      "1      11.728846 -1.242678e+01      0  \n",
      "2       0.000000  3.507169e-14      0  \n",
      "3      11.728846 -1.242678e+01      0  \n",
      "4      12.151631 -1.204402e+01      0  \n",
      "...          ...           ...    ...  \n",
      "24629  10.247416  1.313317e+01      5  \n",
      "24630  16.875140  1.437669e+01      5  \n",
      "24631  10.804835  1.230329e+01      5  \n",
      "24632   0.532307  1.158622e+01      5  \n",
      "24633   3.991115  1.179230e+01      5  \n",
      "\n",
      "[24634 rows x 14 columns]\n"
     ]
    },
    {
     "name": "stderr",
     "output_type": "stream",
     "text": [
      "C:\\Users\\ACER\\AppData\\Local\\Temp\\ipykernel_12512\\3086905973.py:86: FutureWarning: The frame.append method is deprecated and will be removed from pandas in a future version. Use pandas.concat instead.\n",
      "  df = df.append(jd, ignore_index=True)\n",
      "C:\\Users\\ACER\\AppData\\Local\\Temp\\ipykernel_12512\\3086905973.py:86: FutureWarning: The frame.append method is deprecated and will be removed from pandas in a future version. Use pandas.concat instead.\n",
      "  df = df.append(jd, ignore_index=True)\n"
     ]
    }
   ],
   "source": [
    "m = m +1 \n",
    "base_path = \"GMM-Speaker-Identification-data/Speaker_data/Voice_Samples_Training/Rg-003/\"\n",
    "for i in range(1, 6):  \n",
    "    filename = f\"Rg_{i}.wav\"\n",
    "    full_path = base_path + filename\n",
    "    \n",
    "    frequency_sampling, audio_signal = wavfile.read(full_path)\n",
    "    #audio_signal =audio_signal[0:30000]\n",
    "    features_mfcc = mfcc(audio_signal, frequency_sampling,nfft=1103) \n",
    "    if(j==0): \n",
    "        \n",
    "        df = pd.DataFrame(features_mfcc)\n",
    "        df['Class']=m\n",
    "        j+=1\n",
    "    else: \n",
    "        jd = pd.DataFrame(features_mfcc)\n",
    "        jd['Class']=m\n",
    "        df = df.append(jd, ignore_index=True)\n",
    "    print(type( features_mfcc))\n",
    "    print('\\nMFCC:\\nNumber of windows =', features_mfcc.shape[0])\n",
    "    print('Length of each feature =', features_mfcc.shape[1])\n",
    "    features_mfcc = features_mfcc.T \n",
    "print(df)\n",
    "m = m +1 \n",
    "base_path = \"GMM-Speaker-Identification-data/Speaker_data/Voice_Samples_Training/Rishika-004/\"\n",
    "for i in range(1, 6):  \n",
    "    filename = f\"Rishika_{i}.wav\"\n",
    "    full_path = base_path + filename\n",
    "    \n",
    "    frequency_sampling, audio_signal = wavfile.read(full_path)\n",
    "    #audio_signal =audio_signal[0:30000]\n",
    "    features_mfcc = mfcc(audio_signal, frequency_sampling,nfft=1103) \n",
    "    if(j==0): \n",
    "        \n",
    "        df = pd.DataFrame(features_mfcc)\n",
    "        df['Class']=m\n",
    "        j+=1\n",
    "    else: \n",
    "        jd = pd.DataFrame(features_mfcc)\n",
    "        jd['Class']=m\n",
    "        df = df.append(jd, ignore_index=True)\n",
    "    print(type( features_mfcc))\n",
    "    print('\\nMFCC:\\nNumber of windows =', features_mfcc.shape[0])\n",
    "    print('Length of each feature =', features_mfcc.shape[1])\n",
    "    features_mfcc = features_mfcc.T \n",
    "print(df)\n",
    "m = m +1 \n",
    "base_path = \"GMM-Speaker-Identification-data/Speaker_data/Voice_Samples_Training/Vaibhav-005/\"\n",
    "for i in range(1, 6):  \n",
    "    filename = f\"Vaibhav_{i}.wav\"\n",
    "    full_path = base_path + filename\n",
    "    frequency_sampling, audio_signal = wavfile.read(full_path) \n",
    "    audio_signal =audio_signal[0:int(len(audio_signal)/5)]\n",
    "    features_mfcc = mfcc(audio_signal, frequency_sampling,nfft=1103) \n",
    "    if(j==0): \n",
    "        \n",
    "        df = pd.DataFrame(features_mfcc)\n",
    "        df['Class']=m\n",
    "        j+=1\n",
    "    else: \n",
    "        jd = pd.DataFrame(features_mfcc)\n",
    "        jd['Class']=m\n",
    "        df = df.append(jd, ignore_index=True)\n",
    "    print(type( features_mfcc))\n",
    "    print('\\nMFCC:\\nNumber of windows =', features_mfcc.shape[0])\n",
    "    print('Length of each feature =', features_mfcc.shape[1])\n",
    "    features_mfcc = features_mfcc.T \n",
    "print(df)\n",
    "m = m +1 \n",
    "base_path = \"GMM-Speaker-Identification-data/Speaker_data/Voice_Samples_Training/ShivamY-006/\"\n",
    "for i in range(1, 6):  \n",
    "    filename = f\"chappu_{i}.wav\"\n",
    "    full_path = base_path + filename\n",
    "    \n",
    "    frequency_sampling, audio_signal = wavfile.read(full_path)\n",
    "    audio_signal =audio_signal[0:30000]\n",
    "    features_mfcc = mfcc(audio_signal, frequency_sampling,nfft=1103) \n",
    "    if(j==0): \n",
    "        \n",
    "        df = pd.DataFrame(features_mfcc)\n",
    "        df['Class']=m\n",
    "        j+=1\n",
    "    else: \n",
    "        jd = pd.DataFrame(features_mfcc)\n",
    "        jd['Class']=m\n",
    "        df = df.append(jd, ignore_index=True)\n",
    "    print(type( features_mfcc))\n",
    "    print('\\nMFCC:\\nNumber of windows =', features_mfcc.shape[0])\n",
    "    print('Length of each feature =', features_mfcc.shape[1])\n",
    "    features_mfcc = features_mfcc.T \n",
    "print(df)"
   ]
  },
  {
   "cell_type": "code",
   "execution_count": 8,
   "id": "8ef8e44c",
   "metadata": {},
   "outputs": [],
   "source": [
    "from sklearn import datasets\n",
    "from sklearn.mixture import GaussianMixture\n",
    "Abhay= df[df['Class']==0]\n",
    "Eknath= df[df['Class']==1] \n",
    "Rg= df[df['Class']==2] \n",
    "Rishika = df[df['Class']==3] \n",
    "Vaibhav = df[df['Class']==4]\n",
    "Shivam= df[df['Class']==5]\n",
    "\n",
    "gmmlis ={} \n",
    "gmm0 = GaussianMixture(n_components=2, random_state=5)\n",
    "gmm0.fit(Abhay.iloc[:,:13])\n",
    "gmmlis[0]= gmm0\n",
    "gmm1 = GaussianMixture(n_components=2, random_state=5)\n",
    "gmm1.fit(Eknath.iloc[:,:13]) \n",
    "gmmlis[1]= gmm1\n",
    "gmm2 = GaussianMixture(n_components=2, random_state=5)\n",
    "gmm2.fit(Rg.iloc[:,:13])\n",
    "gmmlis[2]= gmm2\n",
    "gmm3 = GaussianMixture(n_components=2, random_state=5)\n",
    "gmm3.fit(Rishika.iloc[:,:13])\n",
    "gmmlis[3]= gmm3\n",
    "gmm4 = GaussianMixture(n_components=2, random_state=5)\n",
    "gmm4.fit(Vaibhav.iloc[:,:13])\n",
    "gmmlis[4]= gmm4\n",
    "gmm5 = GaussianMixture(n_components=2, random_state=5)\n",
    "gmm5.fit(Shivam.iloc[:,:13])\n",
    "gmmlis[5]= gmm5\n",
    " \n"
   ]
  },
  {
   "cell_type": "code",
   "execution_count": 9,
   "id": "8b66a246",
   "metadata": {},
   "outputs": [
    {
     "name": "stdout",
     "output_type": "stream",
     "text": [
      "Abhay_audio1.wav-Abhay\n",
      "Abhay_audio2.wav-Abhay\n",
      "Abhay_audio3.wav-Abhay\n",
      "Abhay_audio4.wav-Abhay\n",
      "Abhay_audio5.wav-Eknath\n",
      "\n",
      "\n",
      "Eknath_audio1.wav-Eknath\n",
      "Eknath_audio2.wav-Eknath\n",
      "Eknath_audio3.wav-Eknath\n",
      "Eknath_audio4.wav-Eknath\n",
      "Eknath_audio5.wav-Eknath\n",
      "\n",
      "\n",
      "Rg_audio1.wav-Rg\n",
      "Rg_audio2.wav-Rg\n",
      "Rg_audio3.wav-Rg\n",
      "Rg_audio4.wav-Rg\n",
      "Rg_audio5.wav-Rg\n",
      "\n",
      "\n",
      "Rishika_audio1.wav-Rishika\n",
      "Rishika_audio2.wav-Rishika\n",
      "Rishika_audio3.wav-Rishika\n",
      "Rishika_audio4.wav-Rishika\n",
      "Rishika_audio5.wav-Rishika\n",
      "\n",
      "\n",
      "Vaibhav_audio1.wav-Vaibhav\n",
      "Vaibhav_audio2.wav-Vaibhav\n",
      "Vaibhav_audio3.wav-Vaibhav\n",
      "Vaibhav_audio4.wav-Vaibhav\n",
      "Vaibhav_audio5.wav-Vaibhav\n",
      "\n",
      "\n",
      "ShivamY_audio1.wav-ShivamY\n",
      "ShivamY_audio2.wav-ShivamY\n",
      "ShivamY_audio3.wav-ShivamY\n",
      "ShivamY_audio4.wav-ShivamY\n",
      "ShivamY_audio5.wav-ShivamY\n",
      "\n",
      "\n",
      "\n",
      "\n",
      "P1.wav-Abhay\n",
      "P2.wav-Eknath\n",
      "P3.wav-Rg\n",
      "P4.wav-Rishika\n",
      "P5.wav-ShivamY\n",
      "P6.wav-Vaibhav\n",
      "\n",
      "\n",
      "Accuracy is : 96.66666666666667\n"
     ]
    }
   ],
   "source": [
    "import statistics\n",
    "from statistics import mode \n",
    "import warnings \n",
    "warnings.filterwarnings(\"ignore\", category=UserWarning)\n",
    "\n",
    "speakers = [\"Abhay\", \"Eknath\",\"Rg\",\"Rishika\",\"Vaibhav\",\"ShivamY\"]\n",
    "def classify_test_data(models, test_features):\n",
    "    predictions = []\n",
    "\n",
    "    for i in range(len(test_features)): \n",
    "        lis = test_features.iloc[i,:]\n",
    "        max_score = -float('inf')\n",
    "        predicted_speaker = None\n",
    "        \n",
    "        for speaker, model in models.items(): \n",
    "           \n",
    "            score = model.score([lis])\n",
    "            if score > max_score:\n",
    "                max_score = score\n",
    "                predicted_speaker = speaker\n",
    "\n",
    "        predictions.append(predicted_speaker)\n",
    "\n",
    "    return predictions \n",
    "actual={}\n",
    "base_path = \"GMM-Speaker-Identification-data/Speaker_data/Testing_Audio/\" \n",
    "k = 0\n",
    "m=0\n",
    "correct_coun = 0\n",
    "for i in range(1, 6):  \n",
    "    filename = f\"Abhay_audio{i}.wav\"\n",
    "    full_path = base_path + filename\n",
    "    frequency_sampling, audio_signal = wavfile.read(full_path)\n",
    "    #audio_signal =audio_signal[0:30000]\n",
    "    features_mfcc = mfcc(audio_signal, frequency_sampling,nfft=1103)\n",
    "    df = pd.DataFrame(features_mfcc.T)\n",
    "    predictions = classify_test_data(gmmlis, df.T)  \n",
    "    k = k+1 \n",
    "    if(mode(predictions)==m):\n",
    "        correct_coun = correct_coun+1\n",
    "    print(filename+\"-\"+speakers[mode(predictions)]) \n",
    "print(\"\\n\")\n",
    "m=m+1\n",
    "base_path = \"GMM-Speaker-Identification-data/Speaker_data/Testing_Audio/\"\n",
    "for i in range(1, 6):  \n",
    "    filename = f\"Eknath_audio{i}.wav\"\n",
    "    full_path = base_path + filename\n",
    "    frequency_sampling, audio_signal = wavfile.read(full_path)\n",
    "    #audio_signal =audio_signal[0:30000]\n",
    "    features_mfcc = mfcc(audio_signal, frequency_sampling,nfft=1103)\n",
    "    df = pd.DataFrame(features_mfcc.T)\n",
    "    predictions = classify_test_data(gmmlis, df.T) \n",
    "    k = k+1\n",
    "    if(mode(predictions)==m):\n",
    "        correct_coun = correct_coun+1\n",
    "    print(filename+\"-\"+speakers[mode(predictions)]) \n",
    "print(\"\\n\")\n",
    "m=m+1\n",
    "base_path = \"GMM-Speaker-Identification-data/Speaker_data/Testing_Audio/\"\n",
    "for i in range(1, 6):\n",
    "    filename = f\"Rg_audio{i}.wav\"\n",
    "    full_path = base_path + filename\n",
    "    frequency_sampling, audio_signal = wavfile.read(full_path)\n",
    "    #audio_signal =audio_signal[0:30000]\n",
    "    features_mfcc = mfcc(audio_signal, frequency_sampling,nfft=1103)\n",
    "    df = pd.DataFrame(features_mfcc.T)\n",
    "    predictions = classify_test_data(gmmlis, df.T) \n",
    "    k = k+1\n",
    "    if(mode(predictions)==m):\n",
    "        correct_coun = correct_coun+1\n",
    "    print(filename+\"-\"+speakers[mode(predictions)])\n",
    "print(\"\\n\")\n",
    "m=m+1\n",
    "base_path = \"GMM-Speaker-Identification-data/Speaker_data/Testing_Audio/\"\n",
    "for i in range(1, 6):  \n",
    "    filename = f\"Rishika_audio{i}.wav\"\n",
    "    full_path = base_path + filename\n",
    "    frequency_sampling, audio_signal = wavfile.read(full_path)\n",
    "    #audio_signal =audio_signal[0:30000]\n",
    "    features_mfcc = mfcc(audio_signal, frequency_sampling,nfft=1103)\n",
    "    df = pd.DataFrame(features_mfcc.T)\n",
    "    predictions = classify_test_data(gmmlis, df.T) \n",
    "    k = k+1\n",
    "    if(mode(predictions)==m):\n",
    "        correct_coun = correct_coun+1\n",
    "    print(filename+\"-\"+speakers[mode(predictions)])\n",
    "print(\"\\n\")\n",
    "m=m+1\n",
    "base_path = \"GMM-Speaker-Identification-data/Speaker_data/Testing_Audio/\"\n",
    "for i in range(1, 6):  \n",
    "    filename = f\"Vaibhav_audio{i}.wav\"\n",
    "    full_path = base_path + filename\n",
    "    frequency_sampling, audio_signal = wavfile.read(full_path)\n",
    "    #audio_signal =audio_signal[0:30000]\n",
    "    features_mfcc = mfcc(audio_signal, frequency_sampling,nfft=1103)\n",
    "    df = pd.DataFrame(features_mfcc.T)\n",
    "    predictions = classify_test_data(gmmlis, df.T) \n",
    "    k = k+1\n",
    "    if(mode(predictions)==m):\n",
    "        correct_coun = correct_coun+1\n",
    "    print(filename+\"-\"+speakers[mode(predictions)])\n",
    "print(\"\\n\")\n",
    "m=m+1    \n",
    "base_path = \"GMM-Speaker-Identification-data/Speaker_data/Testing_Audio/\"\n",
    "for i in range(1, 6): \n",
    "    filename = f\"ShivamY_audio{i}.wav\"\n",
    "    full_path = base_path + filename\n",
    "    frequency_sampling, audio_signal = wavfile.read(full_path)\n",
    "    #audio_signal =audio_signal[0:30000]\n",
    "    features_mfcc = mfcc(audio_signal, frequency_sampling,nfft=1103)\n",
    "    df = pd.DataFrame(features_mfcc.T)\n",
    "    predictions = classify_test_data(gmmlis, df.T) \n",
    "    k = k+1\n",
    "    if(mode(predictions)==m):\n",
    "        correct_coun = correct_coun+1\n",
    "    print(filename+\"-\"+speakers[mode(predictions)])\n",
    "print(\"\\n\")\n",
    "print(\"\\n\")\n",
    "base_path = \"GMM-Speaker-Identification-data/Speaker_data/Testing_Audio/\"\n",
    "for i in range(1, 7):  \n",
    "    filename = f\"P{i}.wav\"\n",
    "    full_path = base_path + filename\n",
    "    frequency_sampling, audio_signal = wavfile.read(full_path)\n",
    "    #audio_signal =audio_signal[0:30000]\n",
    "    features_mfcc = mfcc(audio_signal, frequency_sampling,nfft=1103)\n",
    "    df = pd.DataFrame(features_mfcc.T)\n",
    "    predictions = classify_test_data(gmmlis, df.T) \n",
    "    print(filename+\"-\"+speakers[mode(predictions)])\n",
    "print(\"\\n\")\n",
    "print(\"Accuracy is :\",(correct_coun/k*100))"
   ]
  },
  {
   "cell_type": "code",
   "execution_count": null,
   "id": "fefb09a7",
   "metadata": {},
   "outputs": [],
   "source": []
  },
  {
   "cell_type": "code",
   "execution_count": null,
   "id": "3a477d06",
   "metadata": {},
   "outputs": [],
   "source": []
  }
 ],
 "metadata": {
  "kernelspec": {
   "display_name": "Python 3 (ipykernel)",
   "language": "python",
   "name": "python3"
  },
  "language_info": {
   "codemirror_mode": {
    "name": "ipython",
    "version": 3
   },
   "file_extension": ".py",
   "mimetype": "text/x-python",
   "name": "python",
   "nbconvert_exporter": "python",
   "pygments_lexer": "ipython3",
   "version": "3.9.18"
  }
 },
 "nbformat": 4,
 "nbformat_minor": 5
}
